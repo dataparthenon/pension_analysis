{
 "cells": [
  {
   "cell_type": "markdown",
   "metadata": {},
   "source": [
    "# Import Packages and Read Data\n",
    "\n",
    "This assumes there is a subdirectory in your current working directory called data that contains the Excel files."
   ]
  },
  {
   "cell_type": "code",
   "execution_count": 1,
   "metadata": {},
   "outputs": [],
   "source": [
    "import pandas as pd\n",
    "from array import array\n",
    "from collections import defaultdict\n",
    "\n",
    "\n",
    "deferred_factors = pd.read_excel('data/deferred_factors.xlsx', index_col='Age', usecols=['Age', 'Combined_Factor'])\n",
    "salary_increase_rate = pd.read_excel('data/salary_increase_rate.xlsx')\n",
    "inforce_data = pd.read_excel('data/inforce_2022_p31.xlsx')\n",
    "\n",
    "deferred_factors.columns = [col_name.lower() for col_name in deferred_factors.columns]\n",
    "salary_increase_rate.columns = [col_name.lower() for col_name in salary_increase_rate.columns]\n",
    "inforce_data.columns = [col_name.lower() for col_name in inforce_data.columns]\n"
   ]
  },
  {
   "cell_type": "markdown",
   "metadata": {},
   "source": [
    "## Define Global Variables\n",
    "\n",
    "### Increase Rates\n",
    "`INCREASE_RATES` is an array of salary increase rates, where the index of the array is the years of service minus 1.\n",
    "\n",
    "### Deferred Factors\n",
    "`DEFERRED_FACTORS` is a dictionary of combined factors, mapping `age` -> `combined_factor`. For any age not contained in the dictionary, `combined_factor` is defaulted to 1.\n",
    "\n",
    "### Accrued Benefit Factor\n",
    "An assumption. Set to `0.0182`.\n",
    "\n",
    "### PVAB Factor\n",
    "An assumption. Set to `12.5`"
   ]
  },
  {
   "cell_type": "code",
   "execution_count": 2,
   "metadata": {},
   "outputs": [],
   "source": [
    "INCREASE_RATES = array('f', salary_increase_rate['increase'].tolist())\n",
    "DEFERRED_FACTORS = defaultdict(lambda: 1, pd.Series(deferred_factors['combined_factor']).to_dict())\n",
    "ACCRUED_BENEFIT_FACTOR = 0.0182\n",
    "PVAB_FACTOR = 12.5"
   ]
  },
  {
   "cell_type": "markdown",
   "metadata": {},
   "source": [
    "## Calculate FAS\n",
    "\n",
    "The below code block defines a function call `calculate_fas` which calculates the Five Year Average Salary of a state pension contributor. This will be used to calculate their Accrued Benefit."
   ]
  },
  {
   "cell_type": "code",
   "execution_count": 3,
   "metadata": {},
   "outputs": [],
   "source": [
    "\n",
    "def calculate_fas(yos: int, comp: float, years_ahead=0) -> float:\n",
    "    \"\"\"\n",
    "    Calculates the Five Year Average Salary (FAS) for a pension contributor.\n",
    "    If the contributor has < 5 years of experience, returns 0\n",
    "    If the contributor has more than 9 years of experience, then calculates\n",
    "    the 3-year average salary.\n",
    "\n",
    "    :param yos: Years of Service with state\n",
    "    :param comp: Current compensation\n",
    "    :param years_ahead: How many years in the future to perform the FAS calculation\n",
    "    :returns: FAS in $\n",
    "    \"\"\"\n",
    "    for i in range(years_ahead):\n",
    "        comp = comp * (1 + INCREASE_RATES[yos])\n",
    "        yos += 1\n",
    "    cum_sum = count = 0\n",
    "    yos -= 1\n",
    "    if yos < 4 or yos > 49:\n",
    "        return 0\n",
    "    elif yos < 10:\n",
    "        while yos > 0 and count < 5:\n",
    "            comp = comp / (1 + INCREASE_RATES[yos - 1])\n",
    "            cum_sum += comp\n",
    "            count += 1\n",
    "            yos -= 1\n",
    "    else:\n",
    "        while count < 3:\n",
    "            comp = comp / (1 + INCREASE_RATES[yos - 1])\n",
    "            cum_sum += comp\n",
    "            count += 1\n",
    "            yos -= 1\n",
    "    return cum_sum / count\n"
   ]
  },
  {
   "cell_type": "markdown",
   "metadata": {},
   "source": [
    "### Example FAS Calculations\n",
    "\n",
    "The function `calculate_fas` contains a parameter `years_ahead` which allows you to calculate a contributor's `FAS` years in advance. \n",
    "\n",
    "In the below example, we first calculate the `FAS` for a contributer with 19 years of experience (`yos`) and a current compensation of $100,000 (`comp`). The resulting value is stored in the `fas_example` variable.\n",
    "\n",
    "Next, we calculate the contributor's prior year compensation (`prior_year_comp`) by leveraging the `INCREASE_RATES` array. We then calculate the `FAS` for this contributor at `yos = 18` and `comp = prior_year_comp`; however, we set `years_ahead = 1`. This should result in the same number obtained in `fas_example`."
   ]
  },
  {
   "cell_type": "code",
   "execution_count": 4,
   "metadata": {},
   "outputs": [
    {
     "name": "stdout",
     "output_type": "stream",
     "text": [
      "$93,387.90 == $93,387.90\n"
     ]
    }
   ],
   "source": [
    "yos = 19\n",
    "comp = 100000\n",
    "fas_example = round(calculate_fas(yos, comp), 2)\n",
    "prior_year_comp = comp / (1 + INCREASE_RATES[yos - 1])\n",
    "fas_example_next_year = round(calculate_fas(yos - 1, prior_year_comp, 1), 2)\n",
    "assert fas_example == fas_example_next_year, f\"{'${:,.2f}'.format(fas_example)} != {'${:,.2f}'.format(fas_example_next_year)}\"\n",
    "print(f\"{'${:,.2f}'.format(fas_example)} == {'${:,.2f}'.format(fas_example_next_year)}\")"
   ]
  },
  {
   "cell_type": "markdown",
   "metadata": {},
   "source": [
    "### Add FAS calculations DataFrame\n",
    "\n",
    "Now we can add `fas` and `fas_next_year` columns to our dataframe."
   ]
  },
  {
   "cell_type": "code",
   "execution_count": 5,
   "metadata": {},
   "outputs": [
    {
     "data": {
      "text/html": [
       "<div>\n",
       "<style scoped>\n",
       "    .dataframe tbody tr th:only-of-type {\n",
       "        vertical-align: middle;\n",
       "    }\n",
       "\n",
       "    .dataframe tbody tr th {\n",
       "        vertical-align: top;\n",
       "    }\n",
       "\n",
       "    .dataframe thead th {\n",
       "        text-align: right;\n",
       "    }\n",
       "</style>\n",
       "<table border=\"1\" class=\"dataframe\">\n",
       "  <thead>\n",
       "    <tr style=\"text-align: right;\">\n",
       "      <th></th>\n",
       "      <th>age</th>\n",
       "      <th>count</th>\n",
       "      <th>comp</th>\n",
       "      <th>yos</th>\n",
       "      <th>fas</th>\n",
       "      <th>fas_next_year</th>\n",
       "    </tr>\n",
       "  </thead>\n",
       "  <tbody>\n",
       "    <tr>\n",
       "      <th>0</th>\n",
       "      <td>65</td>\n",
       "      <td>368</td>\n",
       "      <td>79921</td>\n",
       "      <td>35</td>\n",
       "      <td>75355.149462</td>\n",
       "      <td>77615.803895</td>\n",
       "    </tr>\n",
       "    <tr>\n",
       "      <th>1</th>\n",
       "      <td>57</td>\n",
       "      <td>310</td>\n",
       "      <td>75555</td>\n",
       "      <td>35</td>\n",
       "      <td>71238.577065</td>\n",
       "      <td>73375.734329</td>\n",
       "    </tr>\n",
       "    <tr>\n",
       "      <th>2</th>\n",
       "      <td>52</td>\n",
       "      <td>751</td>\n",
       "      <td>74812</td>\n",
       "      <td>32</td>\n",
       "      <td>70538.024318</td>\n",
       "      <td>72654.165001</td>\n",
       "    </tr>\n",
       "    <tr>\n",
       "      <th>3</th>\n",
       "      <td>52</td>\n",
       "      <td>4437</td>\n",
       "      <td>74659</td>\n",
       "      <td>27</td>\n",
       "      <td>70393.765139</td>\n",
       "      <td>72505.578046</td>\n",
       "    </tr>\n",
       "    <tr>\n",
       "      <th>4</th>\n",
       "      <td>62</td>\n",
       "      <td>530</td>\n",
       "      <td>73281</td>\n",
       "      <td>35</td>\n",
       "      <td>69094.489655</td>\n",
       "      <td>71167.324298</td>\n",
       "    </tr>\n",
       "  </tbody>\n",
       "</table>\n",
       "</div>"
      ],
      "text/plain": [
       "   age  count   comp  yos           fas  fas_next_year\n",
       "0   65    368  79921   35  75355.149462   77615.803895\n",
       "1   57    310  75555   35  71238.577065   73375.734329\n",
       "2   52    751  74812   32  70538.024318   72654.165001\n",
       "3   52   4437  74659   27  70393.765139   72505.578046\n",
       "4   62    530  73281   35  69094.489655   71167.324298"
      ]
     },
     "execution_count": 5,
     "metadata": {},
     "output_type": "execute_result"
    }
   ],
   "source": [
    "inforce_data['fas'] = inforce_data.apply(lambda row: calculate_fas(int(row['yos']), row['comp']), axis=1)\n",
    "inforce_data['fas_next_year'] = inforce_data.apply(lambda row: calculate_fas(int(row['yos']), row['comp'], years_ahead=1), axis=1)\n",
    "inforce_data.head()"
   ]
  },
  {
   "cell_type": "markdown",
   "metadata": {},
   "source": [
    "## Accrued Benefit & PVAB calculations\n",
    "\n",
    "We can now leverage the `fas` calculations to calculate the Accrued Benefit and PVAB."
   ]
  },
  {
   "cell_type": "code",
   "execution_count": 6,
   "metadata": {},
   "outputs": [
    {
     "data": {
      "text/html": [
       "<div>\n",
       "<style scoped>\n",
       "    .dataframe tbody tr th:only-of-type {\n",
       "        vertical-align: middle;\n",
       "    }\n",
       "\n",
       "    .dataframe tbody tr th {\n",
       "        vertical-align: top;\n",
       "    }\n",
       "\n",
       "    .dataframe thead th {\n",
       "        text-align: right;\n",
       "    }\n",
       "</style>\n",
       "<table border=\"1\" class=\"dataframe\">\n",
       "  <thead>\n",
       "    <tr style=\"text-align: right;\">\n",
       "      <th></th>\n",
       "      <th>age</th>\n",
       "      <th>count</th>\n",
       "      <th>comp</th>\n",
       "      <th>yos</th>\n",
       "      <th>fas</th>\n",
       "      <th>fas_next_year</th>\n",
       "      <th>accrued_benefit</th>\n",
       "      <th>pvab</th>\n",
       "      <th>accrued_benefit_next_year</th>\n",
       "      <th>pvab_next_year</th>\n",
       "      <th>pvab_increase</th>\n",
       "    </tr>\n",
       "  </thead>\n",
       "  <tbody>\n",
       "    <tr>\n",
       "      <th>0</th>\n",
       "      <td>65</td>\n",
       "      <td>368</td>\n",
       "      <td>79921</td>\n",
       "      <td>35</td>\n",
       "      <td>75355.149462</td>\n",
       "      <td>77615.803895</td>\n",
       "      <td>48001.230207</td>\n",
       "      <td>600015.377591</td>\n",
       "      <td>49372.693927</td>\n",
       "      <td>617158.674094</td>\n",
       "      <td>17143.296503</td>\n",
       "    </tr>\n",
       "    <tr>\n",
       "      <th>1</th>\n",
       "      <td>57</td>\n",
       "      <td>310</td>\n",
       "      <td>75555</td>\n",
       "      <td>35</td>\n",
       "      <td>71238.577065</td>\n",
       "      <td>73375.734329</td>\n",
       "      <td>45378.973590</td>\n",
       "      <td>318218.422840</td>\n",
       "      <td>46675.515693</td>\n",
       "      <td>351451.128820</td>\n",
       "      <td>33232.705980</td>\n",
       "    </tr>\n",
       "    <tr>\n",
       "      <th>2</th>\n",
       "      <td>52</td>\n",
       "      <td>751</td>\n",
       "      <td>74812</td>\n",
       "      <td>32</td>\n",
       "      <td>70538.024318</td>\n",
       "      <td>72654.165001</td>\n",
       "      <td>41081.345363</td>\n",
       "      <td>202554.586616</td>\n",
       "      <td>42365.137406</td>\n",
       "      <td>224041.786539</td>\n",
       "      <td>21487.199923</td>\n",
       "    </tr>\n",
       "    <tr>\n",
       "      <th>3</th>\n",
       "      <td>52</td>\n",
       "      <td>4437</td>\n",
       "      <td>74659</td>\n",
       "      <td>27</td>\n",
       "      <td>70393.765139</td>\n",
       "      <td>72505.578046</td>\n",
       "      <td>34591.496189</td>\n",
       "      <td>170555.909237</td>\n",
       "      <td>35872.662715</td>\n",
       "      <td>189707.290823</td>\n",
       "      <td>19151.381586</td>\n",
       "    </tr>\n",
       "    <tr>\n",
       "      <th>4</th>\n",
       "      <td>62</td>\n",
       "      <td>530</td>\n",
       "      <td>73281</td>\n",
       "      <td>35</td>\n",
       "      <td>69094.489655</td>\n",
       "      <td>71167.324298</td>\n",
       "      <td>44013.189910</td>\n",
       "      <td>441780.546424</td>\n",
       "      <td>45270.709622</td>\n",
       "      <td>488691.891480</td>\n",
       "      <td>46911.345056</td>\n",
       "    </tr>\n",
       "  </tbody>\n",
       "</table>\n",
       "</div>"
      ],
      "text/plain": [
       "   age  count   comp  yos           fas  fas_next_year  accrued_benefit  \\\n",
       "0   65    368  79921   35  75355.149462   77615.803895     48001.230207   \n",
       "1   57    310  75555   35  71238.577065   73375.734329     45378.973590   \n",
       "2   52    751  74812   32  70538.024318   72654.165001     41081.345363   \n",
       "3   52   4437  74659   27  70393.765139   72505.578046     34591.496189   \n",
       "4   62    530  73281   35  69094.489655   71167.324298     44013.189910   \n",
       "\n",
       "            pvab  accrued_benefit_next_year  pvab_next_year  pvab_increase  \n",
       "0  600015.377591               49372.693927   617158.674094   17143.296503  \n",
       "1  318218.422840               46675.515693   351451.128820   33232.705980  \n",
       "2  202554.586616               42365.137406   224041.786539   21487.199923  \n",
       "3  170555.909237               35872.662715   189707.290823   19151.381586  \n",
       "4  441780.546424               45270.709622   488691.891480   46911.345056  "
      ]
     },
     "execution_count": 6,
     "metadata": {},
     "output_type": "execute_result"
    }
   ],
   "source": [
    "inforce_data['accrued_benefit'] = inforce_data['yos'] * inforce_data['fas'] * ACCRUED_BENEFIT_FACTOR\n",
    "inforce_data['pvab'] = inforce_data['accrued_benefit'] * inforce_data['age'].map(DEFERRED_FACTORS) * PVAB_FACTOR\n",
    "inforce_data['accrued_benefit_next_year'] = (inforce_data['yos'] + 1) * inforce_data['fas'] * ACCRUED_BENEFIT_FACTOR\n",
    "inforce_data['pvab_next_year'] = inforce_data['accrued_benefit_next_year'] * (inforce_data['age'] + 1).map(DEFERRED_FACTORS) * PVAB_FACTOR\n",
    "inforce_data['pvab_increase'] = inforce_data['pvab_next_year'] - inforce_data['pvab']\n",
    "inforce_data.head()"
   ]
  }
 ],
 "metadata": {
  "kernelspec": {
   "display_name": "pension-3.12.4",
   "language": "python",
   "name": "python3"
  },
  "language_info": {
   "codemirror_mode": {
    "name": "ipython",
    "version": 3
   },
   "file_extension": ".py",
   "mimetype": "text/x-python",
   "name": "python",
   "nbconvert_exporter": "python",
   "pygments_lexer": "ipython3",
   "version": "3.12.4"
  }
 },
 "nbformat": 4,
 "nbformat_minor": 2
}
