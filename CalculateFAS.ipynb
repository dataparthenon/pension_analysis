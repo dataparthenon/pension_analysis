{
 "cells": [
  {
   "cell_type": "markdown",
   "metadata": {},
   "source": [
    "# Import Packages and Read Data\n",
    "\n",
    "This assumes there is a subdirectory in your current working directory called `data` that contains the Excel files."
   ]
  },
  {
   "cell_type": "code",
   "execution_count": 1,
   "metadata": {},
   "outputs": [],
   "source": [
    "import pandas as pd\n",
    "from collections import defaultdict\n",
    "\n",
    "\n",
    "deferred_factors = pd.read_excel('data/deferred_factors.xlsx',\n",
    "                                 usecols=['Age', 'Combined_Factor'],\n",
    "                                 index_col='Age',\n",
    "                                 )\n",
    "salary_increase_rate = pd.read_excel('data/salary_increase_rate.xlsx')\n",
    "inforce_data = pd.read_excel('data/inforce_2022_p31.xlsx')\n",
    "\n",
    "deferred_factors.columns = [col_name.lower() for col_name in deferred_factors.columns]\n",
    "salary_increase_rate.columns = [col_name.lower() for col_name in salary_increase_rate.columns]\n",
    "inforce_data.columns = [col_name.lower() for col_name in inforce_data.columns]\n"
   ]
  },
  {
   "cell_type": "markdown",
   "metadata": {},
   "source": [
    "## Define Global Variables\n",
    "\n",
    "### Increase Rates\n",
    "`INCREASE_RATES` is an array of salary increase rates, where the index of the array is the years of service minus 1.\n",
    "\n",
    "### Deferred Factors\n",
    "`DEFERRED_FACTORS` is a dictionary of combined factors, mapping `age` -> `combined_factor`. For any age not contained in the dictionary, `combined_factor` is defaulted to 1.\n",
    "\n",
    "### Accrued Benefit Factor\n",
    "An assumption. Set to `0.0182`.\n",
    "\n",
    "### PVAB Factor\n",
    "An assumption. Set to `12.5`"
   ]
  },
  {
   "cell_type": "code",
   "execution_count": 2,
   "metadata": {},
   "outputs": [],
   "source": [
    "INCREASE_RATES = salary_increase_rate['increase'].values\n",
    "DEFERRED_FACTORS = defaultdict(lambda: 1, deferred_factors['combined_factor'].to_dict())\n",
    "ACCRUED_BENEFIT_FACTOR = 0.0182\n",
    "PVAB_FACTOR = 12.5"
   ]
  },
  {
   "cell_type": "markdown",
   "metadata": {},
   "source": [
    "## Calculate FAS\n",
    "\n",
    "The below code block defines a function call `calculate_fas` which calculates the Five Year Average Salary of a state pension contributor. This will be used to calculate their Accrued Benefit."
   ]
  },
  {
   "cell_type": "code",
   "execution_count": 3,
   "metadata": {},
   "outputs": [],
   "source": [
    "from src.python.calculate_fas import calculate_fas\n"
   ]
  },
  {
   "cell_type": "markdown",
   "metadata": {},
   "source": [
    "### Example FAS Calculations\n",
    "\n",
    "The function `calculate_fas` contains a parameter `years_ahead` which allows you to calculate a contributor's `FAS` years in advance. \n",
    "\n",
    "In the below example, we first calculate the `FAS` for a contributer with 19 years of experience (`yos`) and a current compensation of $100,000 (`comp`). The resulting value is stored in the `fas_example` variable.\n",
    "\n",
    "Next, we calculate the contributor's prior year compensation (`prior_year_comp`) by leveraging the `INCREASE_RATES` array. We then calculate the `FAS` for this contributor at `yos = 18` and `comp = prior_year_comp`; however, we set `years_ahead = 1`. This should result in the same number obtained in `fas_example`."
   ]
  },
  {
   "cell_type": "code",
   "execution_count": 4,
   "metadata": {},
   "outputs": [
    {
     "name": "stdout",
     "output_type": "stream",
     "text": [
      "$93,387.90 == $93,387.90\n"
     ]
    }
   ],
   "source": [
    "yos = 19\n",
    "comp = 100000\n",
    "fas_example = round(calculate_fas(yos, comp, INCREASE_RATES), 2)\n",
    "prior_year_comp = comp / (1 + INCREASE_RATES[yos - 1])\n",
    "fas_example_next_year = round(calculate_fas(yos - 1, prior_year_comp, INCREASE_RATES, years_ahead=1), 2)\n",
    "assert fas_example == fas_example_next_year, f\"{'${:,.2f}'.format(fas_example)} != {'${:,.2f}'.format(fas_example_next_year)}\"\n",
    "print(f\"{'${:,.2f}'.format(fas_example)} == {'${:,.2f}'.format(fas_example_next_year)}\")"
   ]
  },
  {
   "cell_type": "markdown",
   "metadata": {},
   "source": [
    "### Add FAS calculations DataFrame\n",
    "\n",
    "Now we can add `fas` and `fas_next_year` columns to our dataframe."
   ]
  },
  {
   "cell_type": "code",
   "execution_count": 5,
   "metadata": {},
   "outputs": [
    {
     "data": {
      "text/html": [
       "<div>\n",
       "<style scoped>\n",
       "    .dataframe tbody tr th:only-of-type {\n",
       "        vertical-align: middle;\n",
       "    }\n",
       "\n",
       "    .dataframe tbody tr th {\n",
       "        vertical-align: top;\n",
       "    }\n",
       "\n",
       "    .dataframe thead th {\n",
       "        text-align: right;\n",
       "    }\n",
       "</style>\n",
       "<table border=\"1\" class=\"dataframe\">\n",
       "  <thead>\n",
       "    <tr style=\"text-align: right;\">\n",
       "      <th></th>\n",
       "      <th>age</th>\n",
       "      <th>count</th>\n",
       "      <th>comp</th>\n",
       "      <th>yos</th>\n",
       "      <th>fas</th>\n",
       "      <th>fas_next_year</th>\n",
       "    </tr>\n",
       "  </thead>\n",
       "  <tbody>\n",
       "    <tr>\n",
       "      <th>0</th>\n",
       "      <td>65</td>\n",
       "      <td>368</td>\n",
       "      <td>79921</td>\n",
       "      <td>35</td>\n",
       "      <td>65993.350237</td>\n",
       "      <td>73131.001880</td>\n",
       "    </tr>\n",
       "    <tr>\n",
       "      <th>1</th>\n",
       "      <td>57</td>\n",
       "      <td>310</td>\n",
       "      <td>75555</td>\n",
       "      <td>35</td>\n",
       "      <td>62388.203065</td>\n",
       "      <td>69135.932321</td>\n",
       "    </tr>\n",
       "    <tr>\n",
       "      <th>2</th>\n",
       "      <td>52</td>\n",
       "      <td>751</td>\n",
       "      <td>74812</td>\n",
       "      <td>32</td>\n",
       "      <td>63886.843506</td>\n",
       "      <td>69515.371341</td>\n",
       "    </tr>\n",
       "    <tr>\n",
       "      <th>3</th>\n",
       "      <td>52</td>\n",
       "      <td>4437</td>\n",
       "      <td>74659</td>\n",
       "      <td>27</td>\n",
       "      <td>66615.590422</td>\n",
       "      <td>70788.114805</td>\n",
       "    </tr>\n",
       "    <tr>\n",
       "      <th>4</th>\n",
       "      <td>62</td>\n",
       "      <td>530</td>\n",
       "      <td>73281</td>\n",
       "      <td>35</td>\n",
       "      <td>60510.487841</td>\n",
       "      <td>67055.128799</td>\n",
       "    </tr>\n",
       "  </tbody>\n",
       "</table>\n",
       "</div>"
      ],
      "text/plain": [
       "   age  count   comp  yos           fas  fas_next_year\n",
       "0   65    368  79921   35  65993.350237   73131.001880\n",
       "1   57    310  75555   35  62388.203065   69135.932321\n",
       "2   52    751  74812   32  63886.843506   69515.371341\n",
       "3   52   4437  74659   27  66615.590422   70788.114805\n",
       "4   62    530  73281   35  60510.487841   67055.128799"
      ]
     },
     "execution_count": 5,
     "metadata": {},
     "output_type": "execute_result"
    }
   ],
   "source": [
    "inforce_data['fas'] = inforce_data.apply(lambda row: calculate_fas(yos=int(row['yos']), \n",
    "                                                                   comp=row['comp'],\n",
    "                                                                   increase_rates=DEFERRED_FACTORS), axis=1)\n",
    "inforce_data['fas_next_year'] = inforce_data.apply(lambda row: calculate_fas(yos=int(row['yos']), \n",
    "                                                                             comp=row['comp'],\n",
    "                                                                             increase_rates=DEFERRED_FACTORS, \n",
    "                                                                             years_ahead=1), \n",
    "                                                                             axis=1)\n",
    "inforce_data.head()"
   ]
  },
  {
   "cell_type": "markdown",
   "metadata": {},
   "source": [
    "## Accrued Benefit & PVAB calculations\n",
    "\n",
    "We can now leverage the `fas` calculations to calculate the Accrued Benefit and PVAB."
   ]
  },
  {
   "cell_type": "code",
   "execution_count": 6,
   "metadata": {},
   "outputs": [
    {
     "data": {
      "text/html": [
       "<div>\n",
       "<style scoped>\n",
       "    .dataframe tbody tr th:only-of-type {\n",
       "        vertical-align: middle;\n",
       "    }\n",
       "\n",
       "    .dataframe tbody tr th {\n",
       "        vertical-align: top;\n",
       "    }\n",
       "\n",
       "    .dataframe thead th {\n",
       "        text-align: right;\n",
       "    }\n",
       "</style>\n",
       "<table border=\"1\" class=\"dataframe\">\n",
       "  <thead>\n",
       "    <tr style=\"text-align: right;\">\n",
       "      <th></th>\n",
       "      <th>age</th>\n",
       "      <th>count</th>\n",
       "      <th>comp</th>\n",
       "      <th>yos</th>\n",
       "      <th>fas</th>\n",
       "      <th>fas_next_year</th>\n",
       "      <th>accrued_benefit</th>\n",
       "      <th>pvab</th>\n",
       "      <th>accrued_benefit_next_year</th>\n",
       "      <th>pvab_next_year</th>\n",
       "      <th>pvab_increase</th>\n",
       "    </tr>\n",
       "  </thead>\n",
       "  <tbody>\n",
       "    <tr>\n",
       "      <th>0</th>\n",
       "      <td>65</td>\n",
       "      <td>368</td>\n",
       "      <td>79921</td>\n",
       "      <td>35</td>\n",
       "      <td>65993.350237</td>\n",
       "      <td>73131.001880</td>\n",
       "      <td>42037.764101</td>\n",
       "      <td>525472.051261</td>\n",
       "      <td>43238.843075</td>\n",
       "      <td>540485.538440</td>\n",
       "      <td>15013.487179</td>\n",
       "    </tr>\n",
       "    <tr>\n",
       "      <th>1</th>\n",
       "      <td>57</td>\n",
       "      <td>310</td>\n",
       "      <td>75555</td>\n",
       "      <td>35</td>\n",
       "      <td>62388.203065</td>\n",
       "      <td>69135.932321</td>\n",
       "      <td>39741.285352</td>\n",
       "      <td>278684.336508</td>\n",
       "      <td>40876.750648</td>\n",
       "      <td>307788.354226</td>\n",
       "      <td>29104.017718</td>\n",
       "    </tr>\n",
       "    <tr>\n",
       "      <th>2</th>\n",
       "      <td>52</td>\n",
       "      <td>751</td>\n",
       "      <td>74812</td>\n",
       "      <td>32</td>\n",
       "      <td>63886.843506</td>\n",
       "      <td>69515.371341</td>\n",
       "      <td>37207.697658</td>\n",
       "      <td>183455.282476</td>\n",
       "      <td>38370.438210</td>\n",
       "      <td>202916.408474</td>\n",
       "      <td>19461.125997</td>\n",
       "    </tr>\n",
       "    <tr>\n",
       "      <th>3</th>\n",
       "      <td>52</td>\n",
       "      <td>4437</td>\n",
       "      <td>74659</td>\n",
       "      <td>27</td>\n",
       "      <td>66615.590422</td>\n",
       "      <td>70788.114805</td>\n",
       "      <td>32734.901133</td>\n",
       "      <td>161401.831134</td>\n",
       "      <td>33947.304879</td>\n",
       "      <td>179525.319616</td>\n",
       "      <td>18123.488483</td>\n",
       "    </tr>\n",
       "    <tr>\n",
       "      <th>4</th>\n",
       "      <td>62</td>\n",
       "      <td>530</td>\n",
       "      <td>73281</td>\n",
       "      <td>35</td>\n",
       "      <td>60510.487841</td>\n",
       "      <td>67055.128799</td>\n",
       "      <td>38545.180754</td>\n",
       "      <td>386895.634024</td>\n",
       "      <td>39646.471633</td>\n",
       "      <td>427978.915610</td>\n",
       "      <td>41083.281587</td>\n",
       "    </tr>\n",
       "  </tbody>\n",
       "</table>\n",
       "</div>"
      ],
      "text/plain": [
       "   age  count   comp  yos           fas  fas_next_year  accrued_benefit  \\\n",
       "0   65    368  79921   35  65993.350237   73131.001880     42037.764101   \n",
       "1   57    310  75555   35  62388.203065   69135.932321     39741.285352   \n",
       "2   52    751  74812   32  63886.843506   69515.371341     37207.697658   \n",
       "3   52   4437  74659   27  66615.590422   70788.114805     32734.901133   \n",
       "4   62    530  73281   35  60510.487841   67055.128799     38545.180754   \n",
       "\n",
       "            pvab  accrued_benefit_next_year  pvab_next_year  pvab_increase  \n",
       "0  525472.051261               43238.843075   540485.538440   15013.487179  \n",
       "1  278684.336508               40876.750648   307788.354226   29104.017718  \n",
       "2  183455.282476               38370.438210   202916.408474   19461.125997  \n",
       "3  161401.831134               33947.304879   179525.319616   18123.488483  \n",
       "4  386895.634024               39646.471633   427978.915610   41083.281587  "
      ]
     },
     "execution_count": 6,
     "metadata": {},
     "output_type": "execute_result"
    }
   ],
   "source": [
    "inforce_data['accrued_benefit'] = inforce_data['yos'] * inforce_data['fas'] * ACCRUED_BENEFIT_FACTOR\n",
    "inforce_data['pvab'] = inforce_data['accrued_benefit'] * inforce_data['age'].map(DEFERRED_FACTORS) * PVAB_FACTOR\n",
    "inforce_data['accrued_benefit_next_year'] = (inforce_data['yos'] + 1) * inforce_data['fas'] * \\\n",
    "    ACCRUED_BENEFIT_FACTOR\n",
    "inforce_data['pvab_next_year'] = inforce_data['accrued_benefit_next_year'] * \\\n",
    "    (inforce_data['age'] + 1).map(DEFERRED_FACTORS) * PVAB_FACTOR\n",
    "inforce_data['pvab_increase'] = inforce_data['pvab_next_year'] - inforce_data['pvab']\n",
    "inforce_data.head()"
   ]
  }
 ],
 "metadata": {
  "kernelspec": {
   "display_name": "pension-3.12.4",
   "language": "python",
   "name": "python3"
  },
  "language_info": {
   "codemirror_mode": {
    "name": "ipython",
    "version": 3
   },
   "file_extension": ".py",
   "mimetype": "text/x-python",
   "name": "python",
   "nbconvert_exporter": "python",
   "pygments_lexer": "ipython3",
   "version": "3.12.4"
  }
 },
 "nbformat": 4,
 "nbformat_minor": 2
}
