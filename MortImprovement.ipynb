{
 "cells": [
  {
   "cell_type": "code",
   "execution_count": 2,
   "metadata": {},
   "outputs": [
    {
     "data": {
      "text/html": [
       "<div>\n",
       "<style scoped>\n",
       "    .dataframe tbody tr th:only-of-type {\n",
       "        vertical-align: middle;\n",
       "    }\n",
       "\n",
       "    .dataframe tbody tr th {\n",
       "        vertical-align: top;\n",
       "    }\n",
       "\n",
       "    .dataframe thead th {\n",
       "        text-align: right;\n",
       "    }\n",
       "</style>\n",
       "<table border=\"1\" class=\"dataframe\">\n",
       "  <thead>\n",
       "    <tr style=\"text-align: right;\">\n",
       "      <th></th>\n",
       "      <th>Male General</th>\n",
       "      <th>Female General</th>\n",
       "      <th>Male Teacher</th>\n",
       "      <th>Female Teacher</th>\n",
       "    </tr>\n",
       "    <tr>\n",
       "      <th>Age</th>\n",
       "      <th></th>\n",
       "      <th></th>\n",
       "      <th></th>\n",
       "      <th></th>\n",
       "    </tr>\n",
       "  </thead>\n",
       "  <tbody>\n",
       "    <tr>\n",
       "      <th>66</th>\n",
       "      <td>0.006462</td>\n",
       "      <td>0.004080</td>\n",
       "      <td>0.005762</td>\n",
       "      <td>0.003018</td>\n",
       "    </tr>\n",
       "    <tr>\n",
       "      <th>67</th>\n",
       "      <td>0.006769</td>\n",
       "      <td>0.004305</td>\n",
       "      <td>0.006094</td>\n",
       "      <td>0.003197</td>\n",
       "    </tr>\n",
       "    <tr>\n",
       "      <th>68</th>\n",
       "      <td>0.007077</td>\n",
       "      <td>0.004529</td>\n",
       "      <td>0.006427</td>\n",
       "      <td>0.003375</td>\n",
       "    </tr>\n",
       "    <tr>\n",
       "      <th>69</th>\n",
       "      <td>0.007385</td>\n",
       "      <td>0.004753</td>\n",
       "      <td>0.006760</td>\n",
       "      <td>0.003553</td>\n",
       "    </tr>\n",
       "    <tr>\n",
       "      <th>70</th>\n",
       "      <td>0.007693</td>\n",
       "      <td>0.004977</td>\n",
       "      <td>0.007093</td>\n",
       "      <td>0.003731</td>\n",
       "    </tr>\n",
       "  </tbody>\n",
       "</table>\n",
       "</div>"
      ],
      "text/plain": [
       "     Male General  Female General  Male Teacher  Female Teacher\n",
       "Age                                                            \n",
       "66       0.006462        0.004080      0.005762        0.003018\n",
       "67       0.006769        0.004305      0.006094        0.003197\n",
       "68       0.007077        0.004529      0.006427        0.003375\n",
       "69       0.007385        0.004753      0.006760        0.003553\n",
       "70       0.007693        0.004977      0.007093        0.003731"
      ]
     },
     "execution_count": 2,
     "metadata": {},
     "output_type": "execute_result"
    }
   ],
   "source": [
    "import pandas as pd\n",
    "import numpy as np\n",
    "\n",
    "\n",
    "mort_imp = pd.read_excel('data/all_mort_import.xlsx', \n",
    "                         sheet_name='cum_imp',\n",
    "                         index_col=0)\n",
    "factors = pd.read_excel('data/all_mort_import.xlsx', \n",
    "                         sheet_name='active_mort',\n",
    "                         index_col=0,\n",
    "                         usecols=['Age', 'Male General', 'Female General', 'Male Teacher', 'Female Teacher'])\n",
    "factors.tail()"
   ]
  },
  {
   "cell_type": "code",
   "execution_count": 3,
   "metadata": {},
   "outputs": [
    {
     "data": {
      "text/plain": [
       "np.float64(0.9414232829929288)"
      ]
     },
     "execution_count": 3,
     "metadata": {},
     "output_type": "execute_result"
    }
   ],
   "source": [
    "BASE_AGE = 18\n",
    "MAX_ROW = mort_imp.shape[1]\n",
    "\n",
    "\n",
    "def p_65_baseage(age: int) -> np.float64:\n",
    "    \"\"\"\n",
    "    Calculates the probability of someone with base_age = age living to 65\n",
    "    :param age: Age in year 2023\n",
    "    :returns: Probability of living to 65\n",
    "    \"\"\"\n",
    "    difference_from_base_age = age - BASE_AGE\n",
    "    X = factors['Male General'].loc[age:].values\n",
    "    Y = mort_imp.loc[age].values[:MAX_ROW - difference_from_base_age]\n",
    "    return (1 - np.multiply(Y, X))[:(MAX_ROW - (5 + difference_from_base_age))]\n",
    "\n",
    "np.prod(p_65_baseage(20))"
   ]
  }
 ],
 "metadata": {
  "kernelspec": {
   "display_name": "pension-3.12.4",
   "language": "python",
   "name": "python3"
  },
  "language_info": {
   "codemirror_mode": {
    "name": "ipython",
    "version": 3
   },
   "file_extension": ".py",
   "mimetype": "text/x-python",
   "name": "python",
   "nbconvert_exporter": "python",
   "pygments_lexer": "ipython3",
   "version": "3.12.4"
  }
 },
 "nbformat": 4,
 "nbformat_minor": 2
}
