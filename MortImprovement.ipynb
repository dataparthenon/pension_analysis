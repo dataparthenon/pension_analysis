{
 "cells": [
  {
   "cell_type": "code",
   "execution_count": 1,
   "metadata": {},
   "outputs": [
    {
     "data": {
      "text/plain": [
       "(53, 4)"
      ]
     },
     "execution_count": 1,
     "metadata": {},
     "output_type": "execute_result"
    }
   ],
   "source": [
    "import pandas as pd\n",
    "import numpy as np\n",
    "from numpy.typing import NDArray\n",
    "from src.python.actuarial_utils import calculate_survival_rate_to_age\n",
    "\n",
    "\n",
    "mort_imp = pd.read_excel('data/all_mort_import.xlsx', \n",
    "                         sheet_name='cum_imp',\n",
    "                         index_col=0)\n",
    "factors = pd.read_excel('data/all_mort_import.xlsx', \n",
    "                         sheet_name='active_mort',\n",
    "                         index_col=0,\n",
    "                         usecols=['Age', 'Male General', 'Female General', 'Male Teacher', 'Female Teacher'])\n",
    "factors.shape"
   ]
  },
  {
   "cell_type": "code",
   "execution_count": 2,
   "metadata": {},
   "outputs": [
    {
     "data": {
      "text/plain": [
       "[np.float64(0.9421875937627542),\n",
       " np.float64(0.9417969960423634),\n",
       " np.float64(0.9414232829929288),\n",
       " np.float64(0.9410597341974765),\n",
       " np.float64(0.9407133270126892),\n",
       " np.float64(0.9403819374757915),\n",
       " np.float64(0.9400680134354913),\n",
       " np.float64(0.9397694316378512),\n",
       " np.float64(0.9394887243142046),\n",
       " np.float64(0.9392260853370139),\n",
       " np.float64(0.9389699006945074),\n",
       " np.float64(0.9387179303521096),\n",
       " np.float64(0.9384680480774462),\n",
       " np.float64(0.9382252947625629),\n",
       " np.float64(0.9380001392015648),\n",
       " np.float64(0.9377859004970903),\n",
       " np.float64(0.9375953047003149),\n",
       " np.float64(0.937424242975964),\n",
       " np.float64(0.9372902303185927),\n",
       " np.float64(0.9372122222264645),\n",
       " np.float64(0.9372004157803212),\n",
       " np.float64(0.9372586178856126),\n",
       " np.float64(0.9373904905862147),\n",
       " np.float64(0.9376100720019698),\n",
       " np.float64(0.937946910150458),\n",
       " np.float64(0.9383995932507669),\n",
       " np.float64(0.9389786548168134),\n",
       " np.float64(0.9396743081149103),\n",
       " np.float64(0.9404855668894849),\n",
       " np.float64(0.9414590184553773),\n",
       " np.float64(0.9425855713001259),\n",
       " np.float64(0.9438653269450771),\n",
       " np.float64(0.9452789736917735),\n",
       " np.float64(0.9468357222163731),\n",
       " np.float64(0.9485740293688216),\n",
       " np.float64(0.950490904660509),\n",
       " np.float64(0.9525854795975147),\n",
       " np.float64(0.9548612596401028),\n",
       " np.float64(0.9573182952757167),\n",
       " np.float64(0.960037130856873),\n",
       " np.float64(0.9630299053584535),\n",
       " np.float64(0.9663080102405168),\n",
       " np.float64(0.9698841559044353),\n",
       " np.float64(0.9737743745938897),\n",
       " np.float64(0.9781096479049148),\n",
       " np.float64(0.9829011656755456),\n",
       " np.float64(0.9881591787575921),\n",
       " np.float64(0.993885338168),\n",
       " np.float64(1.0),\n",
       " np.float64(0.979202612692906),\n",
       " np.float64(0.992968943344),\n",
       " np.float64(1.0),\n",
       " np.float64(1.0)]"
      ]
     },
     "execution_count": 2,
     "metadata": {},
     "output_type": "execute_result"
    }
   ],
   "source": [
    "array = []\n",
    "for _, value in enumerate(factors.index):\n",
    "    array.append(calculate_survival_rate_to_age(current_age=value,\n",
    "                 to_age=65,\n",
    "                 mortality_factors=factors['Male General'],\n",
    "                 mortality_improvement_factors=mort_imp))\n",
    "array"
   ]
  }
 ],
 "metadata": {
  "kernelspec": {
   "display_name": "pension-3.12.4",
   "language": "python",
   "name": "python3"
  },
  "language_info": {
   "codemirror_mode": {
    "name": "ipython",
    "version": 3
   },
   "file_extension": ".py",
   "mimetype": "text/x-python",
   "name": "python",
   "nbconvert_exporter": "python",
   "pygments_lexer": "ipython3",
   "version": "3.12.4"
  }
 },
 "nbformat": 4,
 "nbformat_minor": 2
}
